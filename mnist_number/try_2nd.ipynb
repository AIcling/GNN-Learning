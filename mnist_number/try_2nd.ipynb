{
 "cells": [
  {
   "cell_type": "code",
   "execution_count": 1,
   "id": "79ae835b",
   "metadata": {},
   "outputs": [],
   "source": [
    "import torch\n",
    "import numpy as np\n",
    "from matplotlib import pyplot as plt\n",
    "from torch.utils.data import DataLoader\n",
    "from torchvision import transforms\n",
    "from torchvision import datasets\n",
    "import torch.nn.functional as F"
   ]
  },
  {
   "cell_type": "code",
   "execution_count": 2,
   "id": "a73f9f75",
   "metadata": {},
   "outputs": [],
   "source": [
    "batch_size = 64\n",
    "learning_rate = 0.01\n",
    "momentum = 0.5\n",
    "EPOCH = 10"
   ]
  },
  {
   "cell_type": "code",
   "execution_count": 4,
   "id": "71e8fd1d",
   "metadata": {},
   "outputs": [
    {
     "name": "stdout",
     "output_type": "stream",
     "text": [
      "Downloading http://yann.lecun.com/exdb/mnist/train-images-idx3-ubyte.gz\n",
      "Downloading http://yann.lecun.com/exdb/mnist/train-images-idx3-ubyte.gz to ./data/mnist\\MNIST\\raw\\train-images-idx3-ubyte.gz\n"
     ]
    },
    {
     "name": "stderr",
     "output_type": "stream",
     "text": [
      "100%|███████████████████████████████████████████████████████████████████| 9912422/9912422 [00:01<00:00, 8566209.28it/s]\n"
     ]
    },
    {
     "name": "stdout",
     "output_type": "stream",
     "text": [
      "Extracting ./data/mnist\\MNIST\\raw\\train-images-idx3-ubyte.gz to ./data/mnist\\MNIST\\raw\n",
      "\n",
      "Downloading http://yann.lecun.com/exdb/mnist/train-labels-idx1-ubyte.gz\n",
      "Downloading http://yann.lecun.com/exdb/mnist/train-labels-idx1-ubyte.gz to ./data/mnist\\MNIST\\raw\\train-labels-idx1-ubyte.gz\n"
     ]
    },
    {
     "name": "stderr",
     "output_type": "stream",
     "text": [
      "100%|████████████████████████████████████████████████████████████████████████| 28881/28881 [00:00<00:00, 277015.82it/s]\n"
     ]
    },
    {
     "name": "stdout",
     "output_type": "stream",
     "text": [
      "Extracting ./data/mnist\\MNIST\\raw\\train-labels-idx1-ubyte.gz to ./data/mnist\\MNIST\\raw\n",
      "\n",
      "Downloading http://yann.lecun.com/exdb/mnist/t10k-images-idx3-ubyte.gz\n",
      "Downloading http://yann.lecun.com/exdb/mnist/t10k-images-idx3-ubyte.gz to ./data/mnist\\MNIST\\raw\\t10k-images-idx3-ubyte.gz\n"
     ]
    },
    {
     "name": "stderr",
     "output_type": "stream",
     "text": [
      "100%|███████████████████████████████████████████████████████████████████| 1648877/1648877 [00:00<00:00, 3362470.04it/s]\n"
     ]
    },
    {
     "name": "stdout",
     "output_type": "stream",
     "text": [
      "Extracting ./data/mnist\\MNIST\\raw\\t10k-images-idx3-ubyte.gz to ./data/mnist\\MNIST\\raw\n",
      "\n",
      "Downloading http://yann.lecun.com/exdb/mnist/t10k-labels-idx1-ubyte.gz\n",
      "Downloading http://yann.lecun.com/exdb/mnist/t10k-labels-idx1-ubyte.gz to ./data/mnist\\MNIST\\raw\\t10k-labels-idx1-ubyte.gz\n"
     ]
    },
    {
     "name": "stderr",
     "output_type": "stream",
     "text": [
      "100%|██████████████████████████████████████████████████████████████████████████████████████| 4542/4542 [00:00<?, ?it/s]"
     ]
    },
    {
     "name": "stdout",
     "output_type": "stream",
     "text": [
      "Extracting ./data/mnist\\MNIST\\raw\\t10k-labels-idx1-ubyte.gz to ./data/mnist\\MNIST\\raw\n",
      "\n"
     ]
    },
    {
     "name": "stderr",
     "output_type": "stream",
     "text": [
      "\n"
     ]
    }
   ],
   "source": [
    "# Prepare dataset ------------------------------------------------------------------------------------\n",
    "transform = transforms.Compose([transforms.ToTensor(), transforms.Normalize((0.1307,), (0.3081,))])\n",
    "# softmax归一化指数函数(https://blog.csdn.net/lz_peter/article/details/84574716),其中0.1307是mean均值和0.3081是std标准差\n",
    "train_dataset = datasets.MNIST(root='./data/mnist', train=True, transform=transform,download=True)  # 本地没有就加上download=True\n",
    "test_dataset = datasets.MNIST(root='./data/mnist', train=False, transform=transform,download=True)  # train=True训练集，=False测试集\n",
    "train_loader = DataLoader(train_dataset, batch_size=batch_size, shuffle=True)\n",
    "test_loader = DataLoader(test_dataset, batch_size=batch_size, shuffle=False)"
   ]
  },
  {
   "cell_type": "code",
   "execution_count": 5,
   "id": "e1167836",
   "metadata": {},
   "outputs": [
    {
     "name": "stderr",
     "output_type": "stream",
     "text": [
      "E:\\Anaconda\\Lib\\site-packages\\torchvision\\datasets\\mnist.py:75: UserWarning: train_data has been renamed data\n",
      "  warnings.warn(\"train_data has been renamed data\")\n",
      "E:\\Anaconda\\Lib\\site-packages\\torchvision\\datasets\\mnist.py:65: UserWarning: train_labels has been renamed targets\n",
      "  warnings.warn(\"train_labels has been renamed targets\")\n"
     ]
    },
    {
     "data": {
      "image/png": "[encoded data removed]",
      "text/plain": [
       "<Figure size 640x480 with 12 Axes>"
      ]
     },
     "metadata": {},
     "output_type": "display_data"
    }
   ],
   "source": [
    "fig = plt.figure()\n",
    "for i in range(12):\n",
    "    plt.subplot(3, 4, i+1)\n",
    "    plt.tight_layout()\n",
    "    plt.imshow(train_dataset.train_data[i], cmap='gray', interpolation='none')\n",
    "    plt.title(\"Labels: {}\".format(train_dataset.train_labels[i]))\n",
    "    plt.xticks([])\n",
    "    plt.yticks([])\n",
    "plt.show()"
   ]
  },
  {
   "cell_type": "code",
   "execution_count": 6,
   "id": "314621b2",
   "metadata": {},
   "outputs": [],
   "source": [
    "class Net(torch.nn.Module):\n",
    "    def __init__(self):\n",
    "        super(Net, self).__init__()\n",
    "        self.conv1 = torch.nn.Sequential(\n",
    "            torch.nn.Conv2d(1, 10, kernel_size=5),\n",
    "            torch.nn.ReLU(),\n",
    "            torch.nn.MaxPool2d(kernel_size=2),\n",
    "        )\n",
    "        self.conv2 = torch.nn.Sequential(\n",
    "            torch.nn.Conv2d(10, 20, kernel_size=5),\n",
    "            torch.nn.ReLU(),\n",
    "            torch.nn.MaxPool2d(kernel_size=2),\n",
    "        )\n",
    "        self.fc = torch.nn.Sequential(\n",
    "            torch.nn.Linear(320, 50),\n",
    "            torch.nn.Linear(50, 10),\n",
    "        )\n",
    "\n",
    "    def forward(self, x):\n",
    "        batch_size = x.size(0)\n",
    "        x = self.conv1(x)  # 一层卷积层,一层池化层,一层激活层(图是先卷积后激活再池化，差别不大)\n",
    "        x = self.conv2(x)  # 再来一次\n",
    "        x = x.view(batch_size, -1)  # flatten 变成全连接网络需要的输入 (batch, 20,4,4) ==> (batch,320), -1 此处自动算出的是320\n",
    "        x = self.fc(x)\n",
    "        return x  # 最后输出的是维度为10的，也就是（对应数学符号的0~9）\n",
    "\n",
    "\n",
    "model = Net()\n"
   ]
  },
  {
   "cell_type": "code",
   "execution_count": 7,
   "id": "7fe2a3d7",
   "metadata": {},
   "outputs": [],
   "source": [
    "# Construct loss and optimizer ------------------------------------------------------------------------------\n",
    "criterion = torch.nn.CrossEntropyLoss()  # 交叉熵损失\n",
    "optimizer = torch.optim.SGD(model.parameters(), lr=learning_rate, momentum=momentum)  # lr学习率，momentum冲量"
   ]
  },
  {
   "cell_type": "code",
   "execution_count": 8,
   "id": "9b60c39e",
   "metadata": {},
   "outputs": [],
   "source": [
    "def train(epoch):\n",
    "    running_loss = 0.0  # 这整个epoch的loss清零\n",
    "    running_total = 0\n",
    "    running_correct = 0\n",
    "    for batch_idx, data in enumerate(train_loader, 0):\n",
    "        inputs, target = data\n",
    "        optimizer.zero_grad()\n",
    "\n",
    "        # forward + backward + update\n",
    "        outputs = model(inputs)\n",
    "        loss = criterion(outputs, target)\n",
    "\n",
    "        loss.backward()\n",
    "        optimizer.step()\n",
    "\n",
    "        # 把运行中的loss累加起来，为了下面300次一除\n",
    "        running_loss += loss.item()\n",
    "        # 把运行中的准确率acc算出来\n",
    "        _, predicted = torch.max(outputs.data, dim=1)\n",
    "        running_total += inputs.shape[0]\n",
    "        running_correct += (predicted == target).sum().item()\n",
    "\n",
    "        if batch_idx % 300 == 299:  # 不想要每一次都出loss，浪费时间，选择每300次出一个平均损失,和准确率\n",
    "            print('[%d, %5d]: loss: %.3f , acc: %.2f %%'\n",
    "                  % (epoch + 1, batch_idx + 1, running_loss / 300, 100 * running_correct / running_total))\n",
    "            running_loss = 0.0  # 这小批300的loss清零\n",
    "            running_total = 0\n",
    "            running_correct = 0  # 这小批300的acc清零\n",
    "\n",
    "        # torch.save(model.state_dict(), './model_Mnist.pth')\n",
    "        # torch.save(optimizer.state_dict(), './optimizer_Mnist.pth')"
   ]
  },
  {
   "cell_type": "code",
   "execution_count": 9,
   "id": "8cf90678",
   "metadata": {},
   "outputs": [],
   "source": [
    "def test():\n",
    "    correct = 0\n",
    "    total = 0\n",
    "    with torch.no_grad():  # 测试集不用算梯度\n",
    "        for data in test_loader:\n",
    "            images, labels = data\n",
    "            outputs = model(images)\n",
    "            _, predicted = torch.max(outputs.data, dim=1)  # dim = 1 列是第0个维度，行是第1个维度，沿着行(第1个维度)去找1.最大值和2.最大值的下标\n",
    "            total += labels.size(0)  # 张量之间的比较运算\n",
    "            correct += (predicted == labels).sum().item()\n",
    "    acc = correct / total\n",
    "    print('[%d / %d]: Accuracy on test set: %.1f %% ' % (epoch+1, EPOCH, 100 * acc))  # 求测试的准确率，正确数/总数\n",
    "    return acc\n"
   ]
  },
  {
   "cell_type": "code",
   "execution_count": 10,
   "id": "e0e88b09",
   "metadata": {},
   "outputs": [
    {
     "name": "stdout",
     "output_type": "stream",
     "text": [
      "[1,   300]: loss: 0.821 , acc: 76.72 %\n",
      "[1,   600]: loss: 0.215 , acc: 93.58 %\n",
      "[1,   900]: loss: 0.156 , acc: 95.47 %\n",
      "[1 / 10]: Accuracy on test set: 96.6 % \n",
      "[2,   300]: loss: 0.122 , acc: 96.58 %\n",
      "[2,   600]: loss: 0.107 , acc: 96.83 %\n",
      "[2,   900]: loss: 0.088 , acc: 97.33 %\n",
      "[2 / 10]: Accuracy on test set: 97.7 % \n",
      "[3,   300]: loss: 0.085 , acc: 97.36 %\n",
      "[3,   600]: loss: 0.080 , acc: 97.52 %\n",
      "[3,   900]: loss: 0.070 , acc: 97.90 %\n",
      "[3 / 10]: Accuracy on test set: 98.0 % \n",
      "[4,   300]: loss: 0.065 , acc: 98.06 %\n",
      "[4,   600]: loss: 0.063 , acc: 98.10 %\n",
      "[4,   900]: loss: 0.067 , acc: 97.85 %\n",
      "[4 / 10]: Accuracy on test set: 98.4 % \n",
      "[5,   300]: loss: 0.052 , acc: 98.41 %\n",
      "[5,   600]: loss: 0.060 , acc: 98.16 %\n",
      "[5,   900]: loss: 0.058 , acc: 98.21 %\n",
      "[5 / 10]: Accuracy on test set: 98.5 % \n",
      "[6,   300]: loss: 0.050 , acc: 98.49 %\n",
      "[6,   600]: loss: 0.049 , acc: 98.40 %\n",
      "[6,   900]: loss: 0.053 , acc: 98.34 %\n",
      "[6 / 10]: Accuracy on test set: 98.4 % \n",
      "[7,   300]: loss: 0.044 , acc: 98.64 %\n",
      "[7,   600]: loss: 0.048 , acc: 98.58 %\n",
      "[7,   900]: loss: 0.046 , acc: 98.51 %\n",
      "[7 / 10]: Accuracy on test set: 98.6 % \n",
      "[8,   300]: loss: 0.042 , acc: 98.74 %\n",
      "[8,   600]: loss: 0.043 , acc: 98.69 %\n",
      "[8,   900]: loss: 0.043 , acc: 98.60 %\n",
      "[8 / 10]: Accuracy on test set: 98.7 % \n",
      "[9,   300]: loss: 0.040 , acc: 98.72 %\n",
      "[9,   600]: loss: 0.040 , acc: 98.79 %\n",
      "[9,   900]: loss: 0.039 , acc: 98.77 %\n",
      "[9 / 10]: Accuracy on test set: 98.5 % \n",
      "[10,   300]: loss: 0.036 , acc: 98.90 %\n",
      "[10,   600]: loss: 0.037 , acc: 98.81 %\n",
      "[10,   900]: loss: 0.036 , acc: 98.90 %\n",
      "[10 / 10]: Accuracy on test set: 98.6 % \n"
     ]
    },
    {
     "data": {
      "image/png": "[encoded data removed]",
      "text/plain": [
       "<Figure size 640x480 with 1 Axes>"
      ]
     },
     "metadata": {},
     "output_type": "display_data"
    }
   ],
   "source": [
    "if __name__ == '__main__':\n",
    "    acc_list_test = []\n",
    "    for epoch in range(EPOCH):\n",
    "        train(epoch)\n",
    "        # if epoch % 10 == 9:  #每训练10轮 测试1次\n",
    "        acc_test = test()\n",
    "        acc_list_test.append(acc_test)\n",
    "\n",
    "    plt.plot(acc_list_test)\n",
    "    plt.xlabel('Epoch')\n",
    "    plt.ylabel('Accuracy On TestSet')\n",
    "    plt.show()"
   ]
  },
  {
   "cell_type": "code",
   "execution_count": 13,
   "id": "5885cd7d",
   "metadata": {},
   "outputs": [
    {
     "name": "stdout",
     "output_type": "stream",
     "text": [
      "Net(\n",
      "  (conv1): Sequential(\n",
      "    (0): Conv2d(1, 10, kernel_size=(5, 5), stride=(1, 1))\n",
      "    (1): ReLU()\n",
      "    (2): MaxPool2d(kernel_size=2, stride=2, padding=0, dilation=1, ceil_mode=False)\n",
      "  )\n",
      "  (conv2): Sequential(\n",
      "    (0): Conv2d(10, 20, kernel_size=(5, 5), stride=(1, 1))\n",
      "    (1): ReLU()\n",
      "    (2): MaxPool2d(kernel_size=2, stride=2, padding=0, dilation=1, ceil_mode=False)\n",
      "  )\n",
      "  (fc): Sequential(\n",
      "    (0): Linear(in_features=320, out_features=50, bias=True)\n",
      "    (1): Linear(in_features=50, out_features=10, bias=True)\n",
      "  )\n",
      ")\n"
     ]
    }
   ],
   "source": [
    "print(model.to('cpu'))"
   ]
  },
  {
   "cell_type": "code",
   "execution_count": null,
   "id": "e8c9b2b9",
   "metadata": {},
   "outputs": [],
   "source": []
  }
 ],
 "metadata": {
  "kernelspec": {
   "display_name": "Python 3 (ipykernel)",
   "language": "python",
   "name": "python3"
  },
  "language_info": {
   "codemirror_mode": {
    "name": "ipython",
    "version": 3
   },
   "file_extension": ".py",
   "mimetype": "text/x-python",
   "name": "python",
   "nbconvert_exporter": "python",
   "pygments_lexer": "ipython3",
   "version": "3.11.5"
  }
 },
 "nbformat": 4,
 "nbformat_minor": 5
}
