{
 "cells": [
  {
   "cell_type": "code",
   "execution_count": 1,
   "id": "74b225f8",
   "metadata": {},
   "outputs": [],
   "source": [
    "import torch\n",
    "import torchvision \n",
    "from tqdm import tqdm\n"
   ]
  },
  {
   "cell_type": "code",
   "execution_count": 2,
   "id": "98f3027f",
   "metadata": {},
   "outputs": [],
   "source": [
    "#如果网络能在GPU中训练，就使用GPU；否则使用CPU进行训练\n",
    "device = \"cuda:0\" if torch.cuda.is_available() else \"cpu\"\n",
    "\n",
    "#这个函数包括了两个操作：将图片转换为张量，以及将图片进行归一化处理\n",
    "transform = torchvision.transforms.Compose([torchvision.transforms.ToTensor(),\n",
    "                                torchvision.transforms.Normalize(mean = [0.5],std = [0.5])])\n"
   ]
  },
  {
   "cell_type": "code",
   "execution_count": 3,
   "id": "25181e11",
   "metadata": {},
   "outputs": [
    {
     "name": "stdout",
     "output_type": "stream",
     "text": [
      "Downloading http://yann.lecun.com/exdb/mnist/train-images-idx3-ubyte.gz\n",
      "Downloading http://yann.lecun.com/exdb/mnist/train-images-idx3-ubyte.gz to ./data/MNIST\\raw\\train-images-idx3-ubyte.gz\n"
     ]
    },
    {
     "name": "stderr",
     "output_type": "stream",
     "text": [
      "100%|███████████████████████████████████████████████████████████████████| 9912422/9912422 [00:06<00:00, 1465809.58it/s]\n"
     ]
    },
    {
     "name": "stdout",
     "output_type": "stream",
     "text": [
      "Extracting ./data/MNIST\\raw\\train-images-idx3-ubyte.gz to ./data/MNIST\\raw\n",
      "\n",
      "Downloading http://yann.lecun.com/exdb/mnist/train-labels-idx1-ubyte.gz\n",
      "Downloading http://yann.lecun.com/exdb/mnist/train-labels-idx1-ubyte.gz to ./data/MNIST\\raw\\train-labels-idx1-ubyte.gz\n"
     ]
    },
    {
     "name": "stderr",
     "output_type": "stream",
     "text": [
      "100%|██████████████████████████████████████████████████████████████████████| 28881/28881 [00:00<00:00, 31196418.70it/s]\n"
     ]
    },
    {
     "name": "stdout",
     "output_type": "stream",
     "text": [
      "Extracting ./data/MNIST\\raw\\train-labels-idx1-ubyte.gz to ./data/MNIST\\raw\n",
      "\n",
      "Downloading http://yann.lecun.com/exdb/mnist/t10k-images-idx3-ubyte.gz\n",
      "Downloading http://yann.lecun.com/exdb/mnist/t10k-images-idx3-ubyte.gz to ./data/MNIST\\raw\\t10k-images-idx3-ubyte.gz\n"
     ]
    },
    {
     "name": "stderr",
     "output_type": "stream",
     "text": [
      "100%|███████████████████████████████████████████████████████████████████| 1648877/1648877 [00:01<00:00, 1165474.61it/s]\n"
     ]
    },
    {
     "name": "stdout",
     "output_type": "stream",
     "text": [
      "Extracting ./data/MNIST\\raw\\t10k-images-idx3-ubyte.gz to ./data/MNIST\\raw\n",
      "\n",
      "Downloading http://yann.lecun.com/exdb/mnist/t10k-labels-idx1-ubyte.gz\n",
      "Downloading http://yann.lecun.com/exdb/mnist/t10k-labels-idx1-ubyte.gz to ./data/MNIST\\raw\\t10k-labels-idx1-ubyte.gz\n"
     ]
    },
    {
     "name": "stderr",
     "output_type": "stream",
     "text": [
      "100%|██████████████████████████████████████████████████████████████████████████████████████| 4542/4542 [00:00<?, ?it/s]"
     ]
    },
    {
     "name": "stdout",
     "output_type": "stream",
     "text": [
      "Extracting ./data/MNIST\\raw\\t10k-labels-idx1-ubyte.gz to ./data/MNIST\\raw\n",
      "\n"
     ]
    },
    {
     "name": "stderr",
     "output_type": "stream",
     "text": [
      "\n"
     ]
    }
   ],
   "source": [
    "path = './data/'  #数据集下载后保存的目录\n",
    "\n",
    "#下载训练集和测试集\n",
    "trainData = torchvision.datasets.MNIST(path,train = True,transform = transform,download = True)\n",
    "testData = torchvision.datasets.MNIST(path,train = False,transform = transform)\n"
   ]
  },
  {
   "cell_type": "code",
   "execution_count": 4,
   "id": "979a1362",
   "metadata": {},
   "outputs": [],
   "source": [
    "#设定每一个Batch的大小\n",
    "BATCH_SIZE = 256  \n",
    "\n",
    "#构建数据集和测试集的DataLoader\n",
    "trainDataLoader = torch.utils.data.DataLoader(dataset = trainData,batch_size = BATCH_SIZE,shuffle = True)\n",
    "testDataLoader = torch.utils.data.DataLoader(dataset = testData,batch_size = BATCH_SIZE)\n"
   ]
  },
  {
   "cell_type": "code",
   "execution_count": 5,
   "id": "388b32e0",
   "metadata": {},
   "outputs": [],
   "source": [
    "class Net(torch.nn.Module):\n",
    "    def __init__(self):\n",
    "        super(Net,self).__init__()\n",
    "        self.model = torch.nn.Sequential(\n",
    "            #The size of the picture is 28x28\n",
    "            torch.nn.Conv2d(in_channels = 1,out_channels = 16,kernel_size = 3,stride = 1,padding = 1),\n",
    "            torch.nn.ReLU(),\n",
    "            torch.nn.MaxPool2d(kernel_size = 2,stride = 2),\n",
    "            \n",
    "            #The size of the picture is 14x14\n",
    "            torch.nn.Conv2d(in_channels = 16,out_channels = 32,kernel_size = 3,stride = 1,padding = 1),\n",
    "            torch.nn.ReLU(),\n",
    "            torch.nn.MaxPool2d(kernel_size = 2,stride = 2),\n",
    "            \n",
    "            #The size of the picture is 7x7\n",
    "            torch.nn.Conv2d(in_channels = 32,out_channels = 64,kernel_size = 3,stride = 1,padding = 1),\n",
    "            torch.nn.ReLU(),\n",
    "            \n",
    "            torch.nn.Flatten(),\n",
    "            torch.nn.Linear(in_features = 7 * 7 * 64,out_features = 128),\n",
    "            torch.nn.ReLU(),\n",
    "            torch.nn.Linear(in_features = 128,out_features = 10),\n",
    "            torch.nn.Softmax(dim=1)\n",
    "        )\n",
    "        \n",
    "    def forward(self,input):\n",
    "        output = self.model(input)\n",
    "        return output\n"
   ]
  },
  {
   "cell_type": "code",
   "execution_count": 6,
   "id": "65f6c4dd",
   "metadata": {},
   "outputs": [],
   "source": [
    "trainDataLoader = torch.utils.data.DataLoader(dataset = trainData,batch_size = BATCH_SIZE,shuffle = True)\n",
    "testDataLoader = torch.utils.data.DataLoader(dataset = testData,batch_size = BATCH_SIZE)"
   ]
  },
  {
   "cell_type": "code",
   "execution_count": 7,
   "id": "fc2df933",
   "metadata": {},
   "outputs": [
    {
     "name": "stdout",
     "output_type": "stream",
     "text": [
      "Net(\n",
      "  (model): Sequential(\n",
      "    (0): Conv2d(1, 16, kernel_size=(3, 3), stride=(1, 1), padding=(1, 1))\n",
      "    (1): ReLU()\n",
      "    (2): MaxPool2d(kernel_size=2, stride=2, padding=0, dilation=1, ceil_mode=False)\n",
      "    (3): Conv2d(16, 32, kernel_size=(3, 3), stride=(1, 1), padding=(1, 1))\n",
      "    (4): ReLU()\n",
      "    (5): MaxPool2d(kernel_size=2, stride=2, padding=0, dilation=1, ceil_mode=False)\n",
      "    (6): Conv2d(32, 64, kernel_size=(3, 3), stride=(1, 1), padding=(1, 1))\n",
      "    (7): ReLU()\n",
      "    (8): Flatten(start_dim=1, end_dim=-1)\n",
      "    (9): Linear(in_features=3136, out_features=128, bias=True)\n",
      "    (10): ReLU()\n",
      "    (11): Linear(in_features=128, out_features=10, bias=True)\n",
      "    (12): Softmax(dim=1)\n",
      "  )\n",
      ")\n"
     ]
    }
   ],
   "source": [
    "net = Net()\n",
    "print(net.to(device))"
   ]
  },
  {
   "cell_type": "code",
   "execution_count": 8,
   "id": "0899f01b",
   "metadata": {},
   "outputs": [],
   "source": [
    "lossF = torch.nn.CrossEntropyLoss() \n",
    "optimizer = torch.optim.Adam(net.parameters())"
   ]
  },
  {
   "cell_type": "code",
   "execution_count": 10,
   "id": "a1031478",
   "metadata": {},
   "outputs": [],
   "source": [
    "history = {'Test Loss':[],'Test Accuracy':[]}\n",
    "EPOCHS = 10"
   ]
  },
  {
   "cell_type": "code",
   "execution_count": 12,
   "id": "15d8bbe7",
   "metadata": {},
   "outputs": [
    {
     "name": "stderr",
     "output_type": "stream",
     "text": [
      "[1/10] Loss: 1.5864, Acc: 0.9062, Test Loss: 1.5902, Test Acc: 0.8528: 100%|███████| 235/235 [00:25<00:00,  9.16step/s]\n",
      "[2/10] Loss: 1.5844, Acc: 0.8750, Test Loss: 1.5706, Test Acc: 0.8702: 100%|███████| 235/235 [00:17<00:00, 13.32step/s]\n",
      "[3/10] Loss: 1.5834, Acc: 0.8958, Test Loss: 1.5667, Test Acc: 0.8735: 100%|███████| 235/235 [00:17<00:00, 13.43step/s]\n",
      "[4/10] Loss: 1.5839, Acc: 0.9271, Test Loss: 1.5607, Test Acc: 0.8789: 100%|███████| 235/235 [00:16<00:00, 14.05step/s]\n",
      "[5/10] Loss: 1.4616, Acc: 0.9688, Test Loss: 1.4875, Test Acc: 0.9524: 100%|███████| 235/235 [00:17<00:00, 13.50step/s]\n",
      "[6/10] Loss: 1.4612, Acc: 1.0000, Test Loss: 1.4724, Test Acc: 0.9664: 100%|███████| 235/235 [00:16<00:00, 14.14step/s]\n",
      "[7/10] Loss: 1.4612, Acc: 0.9896, Test Loss: 1.4734, Test Acc: 0.9652: 100%|███████| 235/235 [00:17<00:00, 13.27step/s]\n",
      "[8/10] Loss: 1.4612, Acc: 0.9896, Test Loss: 1.4732, Test Acc: 0.9652: 100%|███████| 235/235 [00:14<00:00, 16.69step/s]\n",
      "[9/10] Loss: 1.4612, Acc: 1.0000, Test Loss: 1.4713, Test Acc: 0.9669: 100%|███████| 235/235 [00:17<00:00, 13.34step/s]\n",
      "[10/10] Loss: 1.4612, Acc: 1.0000, Test Loss: 1.4733, Test Acc: 0.9648: 100%|██████| 235/235 [00:17<00:00, 13.67step/s]\n"
     ]
    }
   ],
   "source": [
    "for epoch in range(1,EPOCHS + 1):\n",
    "    processBar = tqdm(trainDataLoader,unit = 'step')\n",
    "    net.train(True)\n",
    "    for step,(trainImgs,labels) in enumerate(processBar):\n",
    "        trainImgs = trainImgs.to(device)\n",
    "        labels = labels.to(device)\n",
    "\n",
    "        net.zero_grad()\n",
    "        outputs = net(trainImgs)\n",
    "        loss = lossF(outputs,labels)\n",
    "        predictions = torch.argmax(outputs, dim = 1)\n",
    "        accuracy = torch.sum(predictions == labels)/labels.shape[0]\n",
    "        loss.backward()\n",
    "\n",
    "        optimizer.step()\n",
    "        processBar.set_description(\"[%d/%d] Loss: %.4f, Acc: %.4f\" % \n",
    "                                   (epoch,EPOCHS,loss.item(),accuracy.item()))\n",
    "        \n",
    "        if step == len(processBar)-1:\n",
    "            correct,totalLoss = 0,0\n",
    "            net.train(False)\n",
    "            with torch.no_grad():\n",
    "\t            for testImgs,labels in testDataLoader:\n",
    "\t                testImgs = testImgs.to(device)\n",
    "\t                labels = labels.to(device)\n",
    "\t                outputs = net(testImgs)\n",
    "\t                loss = lossF(outputs,labels)\n",
    "\t                predictions = torch.argmax(outputs,dim = 1)\n",
    "\t                \n",
    "\t                totalLoss += loss\n",
    "\t                correct += torch.sum(predictions == labels)\n",
    "\t                \n",
    "\t            testAccuracy = correct/(BATCH_SIZE * len(testDataLoader))\n",
    "\t            testLoss = totalLoss/len(testDataLoader)\n",
    "\t            history['Test Loss'].append(testLoss.item())\n",
    "\t            history['Test Accuracy'].append(testAccuracy.item())\n",
    "            \n",
    "            processBar.set_description(\"[%d/%d] Loss: %.4f, Acc: %.4f, Test Loss: %.4f, Test Acc: %.4f\" % \n",
    "                                   (epoch,EPOCHS,loss.item(),accuracy.item(),testLoss.item(),testAccuracy.item()))\n",
    "    processBar.close()\n"
   ]
  },
  {
   "cell_type": "code",
   "execution_count": 16,
   "id": "627853bb",
   "metadata": {},
   "outputs": [
    {
     "data": {
      "image/png": "[encoded data removed]",
      "text/plain": [
       "<Figure size 640x480 with 1 Axes>"
      ]
     },
     "metadata": {},
     "output_type": "display_data"
    },
    {
     "data": {
      "image/png": "[encoded data removed]",
      "text/plain": [
       "<Figure size 640x480 with 1 Axes>"
      ]
     },
     "metadata": {},
     "output_type": "display_data"
    }
   ],
   "source": [
    "plt.plot(history['Test Loss'],label = 'Test Loss')\n",
    "plt.legend(loc='best')\n",
    "matplotlib.pyplot.grid(True)\n",
    "matplotlib.pyplot.xlabel('Epoch')\n",
    "matplotlib.pyplot.ylabel('Loss')\n",
    "matplotlib.pyplot.show()\n",
    "\n",
    "matplotlib.pyplot.plot(history['Test Accuracy'],color = 'red',label = 'Test Accuracy')\n",
    "matplotlib.pyplot.legend(loc='best')\n",
    "matplotlib.pyplot.grid(True)\n",
    "matplotlib.pyplot.xlabel('Epoch')\n",
    "matplotlib.pyplot.ylabel('Accuracy')\n",
    "matplotlib.pyplot.show()\n",
    "\n",
    "torch.save(net,'./model.pth')"
   ]
  },
  {
   "cell_type": "code",
   "execution_count": 15,
   "id": "f5188fb2",
   "metadata": {},
   "outputs": [],
   "source": [
    "import matplotlib.pyplot as plt"
   ]
  },
  {
   "cell_type": "code",
   "execution_count": 1,
   "id": "0ddcf3a1",
   "metadata": {},
   "outputs": [
    {
     "ename": "NameError",
     "evalue": "name 'device' is not defined",
     "output_type": "error",
     "traceback": [
      "\u001b[1;31m---------------------------------------------------------------------------\u001b[0m",
      "\u001b[1;31mNameError\u001b[0m                                 Traceback (most recent call last)",
      "Cell \u001b[1;32mIn[1], line 1\u001b[0m\n\u001b[1;32m----> 1\u001b[0m \u001b[38;5;28mprint\u001b[39m(device)\n",
      "\u001b[1;31mNameError\u001b[0m: name 'device' is not defined"
     ]
    }
   ],
   "source": [
    "print(device)"
   ]
  },
  {
   "cell_type": "code",
   "execution_count": null,
   "id": "6906afef",
   "metadata": {},
   "outputs": [],
   "source": []
  }
 ],
 "metadata": {
  "kernelspec": {
   "display_name": "Python 3 (ipykernel)",
   "language": "python",
   "name": "python3"
  },
  "language_info": {
   "codemirror_mode": {
    "name": "ipython",
    "version": 3
   },
   "file_extension": ".py",
   "mimetype": "text/x-python",
   "name": "python",
   "nbconvert_exporter": "python",
   "pygments_lexer": "ipython3",
   "version": "3.11.5"
  }
 },
 "nbformat": 4,
 "nbformat_minor": 5
}
