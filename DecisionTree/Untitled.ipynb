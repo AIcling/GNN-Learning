{
 "cells": [
  {
   "cell_type": "code",
   "execution_count": 1,
   "id": "ef1aaa8f",
   "metadata": {},
   "outputs": [],
   "source": [
    "# 导入所需要的模块\n",
    "from sklearn import tree #树的模块\n",
    "from sklearn.datasets import load_wine #导入红酒数据集\n",
    "from sklearn.model_selection import train_test_split # 划分数据集的模块"
   ]
  },
  {
   "cell_type": "code",
   "execution_count": 6,
   "id": "33b560db",
   "metadata": {},
   "outputs": [
    {
     "data": {
      "text/plain": [
       "(178, 13)"
      ]
     },
     "execution_count": 6,
     "metadata": {},
     "output_type": "execute_result"
    }
   ],
   "source": [
    "# 探索数据\n",
    "wine = load_wine()\n",
    "# 数据有178个样本，13个特征\n",
    "wine.data.shape\n",
    "# 标签\n",
    "#wine.target\n",
    "#如果wine是一张表，应该长这样：\n",
    "#wine"
   ]
  },
  {
   "cell_type": "code",
   "execution_count": 12,
   "id": "4472c152",
   "metadata": {},
   "outputs": [],
   "source": [
    "import pandas as pd\n",
    "pd.concat([pd.DataFrame(wine.data),pd.DataFrame(wine.target)],axis=1)\n",
    "wine.feature_names\n",
    "#wine.target_names\n",
    "# 划分数据为训练集和测试集，test_size标示测试集数据占的百分比\n",
    "Xtrain, Xtest, Ytrain, Ytest = train_test_split(wine.data,wine.target,test_size=0.3)\n",
    "#Xtrain.shape\n",
    "#Xtest.shape"
   ]
  },
  {
   "cell_type": "code",
   "execution_count": 15,
   "id": "3c746ea8",
   "metadata": {},
   "outputs": [
    {
     "data": {
      "text/plain": [
       "0.9444444444444444"
      ]
     },
     "execution_count": 15,
     "metadata": {},
     "output_type": "execute_result"
    }
   ],
   "source": [
    "# 建立模型\n",
    "clf = tree.DecisionTreeClassifier(criterion=\"entropy\",random_state = 15)# 实例化模型，添加criterion参数\n",
    "clf = clf.fit(Xtrain, Ytrain)# 使用实例化好的模型进行拟合操作\n",
    "score = clf.score(Xtest, Ytest) #返回预测的准确度\n",
    "score"
   ]
  },
  {
   "cell_type": "code",
   "execution_count": null,
   "id": "b58c2d7d",
   "metadata": {},
   "outputs": [],
   "source": []
  }
 ],
 "metadata": {
  "kernelspec": {
   "display_name": "Python 3 (ipykernel)",
   "language": "python",
   "name": "python3"
  },
  "language_info": {
   "codemirror_mode": {
    "name": "ipython",
    "version": 3
   },
   "file_extension": ".py",
   "mimetype": "text/x-python",
   "name": "python",
   "nbconvert_exporter": "python",
   "pygments_lexer": "ipython3",
   "version": "3.11.5"
  }
 },
 "nbformat": 4,
 "nbformat_minor": 5
}
